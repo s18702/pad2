{
  "nbformat": 4,
  "nbformat_minor": 0,
  "metadata": {
    "colab": {
      "provenance": [],
      "collapsed_sections": []
    },
    "kernelspec": {
      "name": "python3",
      "display_name": "Python 3"
    },
    "language_info": {
      "name": "python"
    }
  },
  "cells": [
    {
      "cell_type": "code",
      "source": [
        "import pandas as pd\n",
        "import numpy as np\n",
        "data = pd.read_csv('president_heights.csv')\n",
        "heights = np.array(data['height(cm)'])\n",
        "print(heights)\n"
      ],
      "metadata": {
        "colab": {
          "base_uri": "https://localhost:8080/"
        },
        "id": "rP3UoJ7PlY0k",
        "outputId": "9966715d-c28a-4e4b-8a47-02cf7f399e08"
      },
      "execution_count": 3,
      "outputs": [
        {
          "output_type": "stream",
          "name": "stdout",
          "text": [
            "[189 170 189 163 183 171 185 168 173 183 173 173 175 178 183 193 178 173\n",
            " 174 183 183 168 170 178 182 180 183 178 182 188 175 179 183 193 182 183\n",
            " 177 185 188 188 182 185]\n"
          ]
        }
      ]
    },
    {
      "cell_type": "code",
      "source": [
        "#zad1\n",
        "mean_height = heights.mean()\n",
        "standard_deviation = heights.std()\n",
        "minimum_height = heights.min() \n",
        "maximum_height = heights.max()\n",
        "\n",
        "print(\"Mean height:       \", mean_height)\n",
        "print(\"Standard deviation:\", standard_deviation)\n",
        "print(\"Minimum height:    \", minimum_height)\n",
        "print(\"Maximum height:    \", maximum_height)\n",
        "\n",
        "sorted_arr = np.sort(heights)\n",
        "\n",
        "median = np.median(sorted_arr)\n",
        "quantile25 = np.quantile(sorted_arr, 0.25)\n",
        "quantile75 = np.quantile(sorted_arr, 0.75)\n",
        "\n",
        "print(\"25th percentile:   \", quantile25)\n",
        "print(\"Median:            \", median)\n",
        "print(\"75th percentile:   \", quantile75)\n",
        "\n",
        "\n"
      ],
      "metadata": {
        "colab": {
          "base_uri": "https://localhost:8080/"
        },
        "id": "zlomUDo2lvb0",
        "outputId": "587ba351-2ecd-443c-e6e2-3a9e8b365938"
      },
      "execution_count": 4,
      "outputs": [
        {
          "output_type": "stream",
          "name": "stdout",
          "text": [
            "Mean height:        179.73809523809524\n",
            "Standard deviation: 6.931843442745892\n",
            "Minimum height:     163\n",
            "Maximum height:     193\n",
            "25th percentile:    174.25\n",
            "Median:             182.0\n",
            "75th percentile:    183.0\n"
          ]
        }
      ]
    },
    {
      "cell_type": "code",
      "source": [
        "#zad 2 \n",
        "zad2_data = pd.read_csv(\"Zadanie_2.csv\", header=None, delimiter=';')\n",
        "zad2_vectors = np.array(zad2_data)\n",
        "eigvals = np.linalg.eigvals(zad2_vectors)\n",
        "eigenvectors = np.linalg.eig(zad2_vectors)\n",
        "inverse_matrix = np.linalg.inv(zad2_vectors)\n",
        "\n"
      ],
      "metadata": {
        "id": "0M3hp3LynlKa"
      },
      "execution_count": 113,
      "outputs": []
    },
    {
      "cell_type": "code",
      "source": [
        "#zad 3\n",
        "import numpy as np\n",
        "import pandas as pd\n",
        "\n",
        "# use pandas to extract rainfall inches as a NumPy array\n",
        "rainfall = pd.read_csv('Seattle2014.csv')['PRCP'].values\n",
        "inches = rainfall / 254.0  # 1/10mm -> inches\n",
        "inches.shape\n",
        "\n",
        "#%matplotlib inline\n",
        "#import matplotlib.pyplot as plt\n",
        "#import seaborn; seaborn.set()  # set plot styles\n",
        "#plt.hist(inches, 40);\n",
        "\n",
        "np_rainfall = np.array(inches)  \n",
        "no_rain_days = np_rainfall == 0\n",
        "rain_days = np_rainfall > 0\n",
        "inches_more_05 = np_rainfall > 0.5\n",
        "inches_less_02 = (np_rainfall < 0.2) > 0 \n",
        "\n",
        "print(\"Number days without rain:      \", np.sum(no_rain_days))\n",
        "print(\"Number days with rain:         \", np.sum(rain_days))\n",
        "print(\"Days with more than 0.5 inches:\", np.sum(inches_more_05))\n",
        "print(\"Rainy days with < 0.2 inches  :\", np.sum(inches_less_02))\n",
        "\n",
        "median_rainy = np.median(np.sort(rainfall[rainfall > 0]))\n",
        "summer = rainfall[172:263] \n",
        "#jeśli nie są po kolei \n",
        "#h = pd.read_csv('Seattle2014.csv')\n",
        "#summer = np.array(h[(h[\"DATE\"] >= 20140621) & (h[\"DATE\"] <= 20140920)][\"PRCP\"])\n",
        "median_summer = np.median(np.sort(summer))\n",
        "summer_max = summer.max()\n",
        "\n",
        "other_season = np.concatenate((rainfall[0:172], rainfall[263:len(rainfall)]))\n",
        "#summers = np.array(h[~((h[\"DATE\"] >= 20140621) & (h[\"DATE\"] <= 20140920))][\"PRCP\"]) bądź w taki sposób jak indeksy nie sa po kolei\n",
        "other_season_max = other_season.max()\n",
        "\n",
        "print(\"Median precip on rainy days in 2014 (inches):   \", median_rainy)\n",
        "print(\"Median precip on summer days in 2014 (inches):  \", median_summer)\n",
        "print(\"Maximum precip on summer days in 2014 (inches): \", summer_max)\n",
        "print(\"Median precip on non-summer rainy days (inches):\", other_season_max)\n",
        "\n",
        "\n"
      ],
      "metadata": {
        "colab": {
          "base_uri": "https://localhost:8080/"
        },
        "id": "2XIFMRLBqyuy",
        "outputId": "ecfacb71-6efa-4fe9-bf77-df018fe8cf14"
      },
      "execution_count": 116,
      "outputs": [
        {
          "output_type": "stream",
          "name": "stdout",
          "text": [
            "Number days without rain:       215\n",
            "Number days with rain:          150\n",
            "Days with more than 0.5 inches: 37\n",
            "Rainy days with < 0.2 inches  : 290\n",
            "Median precip on rainy days in 2014 (inches):    49.5\n",
            "Median precip on summer days in 2014 (inches):   0.0\n",
            "Maximum precip on summer days in 2014 (inches):  216\n",
            "Median precip on non-summer rainy days (inches): 467\n"
          ]
        }
      ]
    },
    {
      "cell_type": "code",
      "source": [
        "#zad 4 \n",
        "A = [0,3,2,5]\n",
        "B = [0,3,1,4]\n",
        "\n",
        "A_B_sum = np.add(A,B)\n",
        "B_A_sub = np.subtract(B,A)\n",
        "mult_4 = np.array(A)*4\n",
        "scalar_A_B = np.dot(A,B)\n",
        "length_B_vector = np.linalg.norm(B)"
      ],
      "metadata": {
        "colab": {
          "base_uri": "https://localhost:8080/"
        },
        "id": "yFBZJW9myMao",
        "outputId": "ccd526a8-b3e2-4d26-9617-eaed4cbcbffd"
      },
      "execution_count": null,
      "outputs": [
        {
          "output_type": "execute_result",
          "data": {
            "text/plain": [
              "5.0990195135927845"
            ]
          },
          "metadata": {},
          "execution_count": 93
        }
      ]
    }
  ]
}